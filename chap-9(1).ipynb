{
 "cells": [
  {
   "cell_type": "markdown",
   "metadata": {},
   "source": [
    "Advance OOPS\n",
    "=\n",
    "- Polymorphism\n",
    "- Inheritance"
   ]
  },
  {
   "cell_type": "markdown",
   "metadata": {},
   "source": [
    "Polymorphism\n",
    "=\n",
    "- Poly-many\n",
    "- morphos-forms\n",
    "- overloading(compile time polymorphism)\n",
    "- overriding(run time polymorphism)"
   ]
  },
  {
   "cell_type": "code",
   "execution_count": 3,
   "metadata": {},
   "outputs": [
    {
     "name": "stdout",
     "output_type": "stream",
     "text": [
      "12\n"
     ]
    },
    {
     "ename": "TypeError",
     "evalue": "area() missing 1 required positional argument: 'b'",
     "output_type": "error",
     "traceback": [
      "\u001b[1;31m---------------------------------------------------------------------------\u001b[0m",
      "\u001b[1;31mTypeError\u001b[0m                                 Traceback (most recent call last)",
      "\u001b[1;32m<ipython-input-3-9894488f937f>\u001b[0m in \u001b[0;36m<module>\u001b[1;34m\u001b[0m\n\u001b[0;32m      6\u001b[0m \u001b[0ms\u001b[0m\u001b[1;33m=\u001b[0m\u001b[0mshape\u001b[0m\u001b[1;33m(\u001b[0m\u001b[1;33m)\u001b[0m\u001b[1;33m\u001b[0m\u001b[1;33m\u001b[0m\u001b[0m\n\u001b[0;32m      7\u001b[0m \u001b[0mprint\u001b[0m\u001b[1;33m(\u001b[0m\u001b[0ms\u001b[0m\u001b[1;33m.\u001b[0m\u001b[0marea\u001b[0m\u001b[1;33m(\u001b[0m\u001b[1;36m3\u001b[0m\u001b[1;33m,\u001b[0m\u001b[1;36m4\u001b[0m\u001b[1;33m)\u001b[0m\u001b[1;33m)\u001b[0m\u001b[1;33m\u001b[0m\u001b[1;33m\u001b[0m\u001b[0m\n\u001b[1;32m----> 8\u001b[1;33m \u001b[0mprint\u001b[0m\u001b[1;33m(\u001b[0m\u001b[0ms\u001b[0m\u001b[1;33m.\u001b[0m\u001b[0marea\u001b[0m\u001b[1;33m(\u001b[0m\u001b[1;36m3\u001b[0m\u001b[1;33m)\u001b[0m\u001b[1;33m)\u001b[0m\u001b[1;33m\u001b[0m\u001b[1;33m\u001b[0m\u001b[0m\n\u001b[0m",
      "\u001b[1;31mTypeError\u001b[0m: area() missing 1 required positional argument: 'b'"
     ]
    }
   ],
   "source": [
    "# method overloading not supported in python\n",
    "class shape:\n",
    "    def area(self,a):\n",
    "        return 3.14*a*a\n",
    "    def area(self,a,b):\n",
    "        return a*b\n",
    "s=shape()\n",
    "print(s.area(3,4))\n",
    "print(s.area(3))"
   ]
  },
  {
   "cell_type": "code",
   "execution_count": 8,
   "metadata": {},
   "outputs": [
    {
     "name": "stdout",
     "output_type": "stream",
     "text": [
      "Multiplication: 200\n",
      "Addition: 30\n"
     ]
    }
   ],
   "source": [
    "class Add:\n",
    "    def result(self,a,b):\n",
    "        print('Addition:',a+b)\n",
    "class Multi(Add):\n",
    "    def result(self,a,b):\n",
    "        print('Multiplication:',a*b)\n",
    "a=Multi()\n",
    "a.result(10,20)\n",
    "m=Add()\n",
    "m.result(10,20)"
   ]
  },
  {
   "cell_type": "code",
   "execution_count": 9,
   "metadata": {},
   "outputs": [
    {
     "name": "stdout",
     "output_type": "stream",
     "text": [
      "Addition: 30\n",
      "Multiplication: 200\n",
      "Addition: 30\n"
     ]
    }
   ],
   "source": [
    "class Add:\n",
    "    def result(self,a,b):\n",
    "        print('Addition:',a+b)\n",
    "class Multi(Add):\n",
    "    def result(self,a,b):\n",
    "        super().result(10,20)\n",
    "        print('Multiplication:',a*b)\n",
    "a=Multi()\n",
    "a.result(10,20)\n",
    "m=Add()\n",
    "m.result(10,20)"
   ]
  },
  {
   "cell_type": "code",
   "execution_count": 10,
   "metadata": {},
   "outputs": [
    {
     "name": "stdout",
     "output_type": "stream",
     "text": [
      "1st func of class A\n",
      "1st func of class B\n",
      "2nd func of class A\n",
      "2nd func of class A\n",
      "display func of child class\n"
     ]
    },
    {
     "ename": "AttributeError",
     "evalue": "'A' object has no attribute 'display'",
     "output_type": "error",
     "traceback": [
      "\u001b[1;31m---------------------------------------------------------------------------\u001b[0m",
      "\u001b[1;31mAttributeError\u001b[0m                            Traceback (most recent call last)",
      "\u001b[1;32m<ipython-input-10-cf9d5932c698>\u001b[0m in \u001b[0;36m<module>\u001b[1;34m\u001b[0m\n\u001b[0;32m     16\u001b[0m \u001b[0mo2\u001b[0m\u001b[1;33m.\u001b[0m\u001b[0msecond\u001b[0m\u001b[1;33m(\u001b[0m\u001b[1;33m)\u001b[0m\u001b[1;33m\u001b[0m\u001b[1;33m\u001b[0m\u001b[0m\n\u001b[0;32m     17\u001b[0m \u001b[0mo2\u001b[0m\u001b[1;33m.\u001b[0m\u001b[0mdisplay\u001b[0m\u001b[1;33m(\u001b[0m\u001b[1;33m)\u001b[0m\u001b[1;33m\u001b[0m\u001b[1;33m\u001b[0m\u001b[0m\n\u001b[1;32m---> 18\u001b[1;33m \u001b[0mo1\u001b[0m\u001b[1;33m.\u001b[0m\u001b[0mdisplay\u001b[0m\u001b[1;33m(\u001b[0m\u001b[1;33m)\u001b[0m\u001b[1;33m\u001b[0m\u001b[1;33m\u001b[0m\u001b[0m\n\u001b[0m",
      "\u001b[1;31mAttributeError\u001b[0m: 'A' object has no attribute 'display'"
     ]
    }
   ],
   "source": [
    "class A:\n",
    "    def first(self):\n",
    "        print('1st func of class A')\n",
    "    def second(self):\n",
    "        print('2nd func of class A')\n",
    "class B(A):\n",
    "    def first(self):\n",
    "        print('1st func of class B')\n",
    "    def display(self):\n",
    "        print('display func of child class')\n",
    "o1=A()\n",
    "o2=B()\n",
    "o1.first()\n",
    "o2.first()\n",
    "o1.second()\n",
    "o2.second()\n",
    "o2.display()\n",
    "o1.display()"
   ]
  },
  {
   "cell_type": "markdown",
   "metadata": {},
   "source": [
    "Operator Overloading\n",
    "=\n",
    "- giving extended meaning beyond their predefined meaning\n",
    "- +: add two integers, join two strings, merge two lists"
   ]
  },
  {
   "cell_type": "code",
   "execution_count": 11,
   "metadata": {},
   "outputs": [
    {
     "name": "stdout",
     "output_type": "stream",
     "text": [
      "300\n"
     ]
    }
   ],
   "source": [
    "class A:\n",
    "    def __init__(self,x):\n",
    "        self.x=x\n",
    "    def __add__(self,other):\n",
    "        return self.x+other.x\n",
    "class B:\n",
    "    def __init__(self,x):\n",
    "        self.x=x\n",
    "a=A(100)\n",
    "b=B(200)\n",
    "print(a+b)"
   ]
  },
  {
   "cell_type": "code",
   "execution_count": 13,
   "metadata": {},
   "outputs": [
    {
     "name": "stdout",
     "output_type": "stream",
     "text": [
      "3\n",
      "hellohi\n"
     ]
    },
    {
     "ename": "TypeError",
     "evalue": "unsupported operand type(s) for +: 'int' and 'str'",
     "output_type": "error",
     "traceback": [
      "\u001b[1;31m---------------------------------------------------------------------------\u001b[0m",
      "\u001b[1;31mTypeError\u001b[0m                                 Traceback (most recent call last)",
      "\u001b[1;32m<ipython-input-13-e6bc94e41686>\u001b[0m in \u001b[0;36m<module>\u001b[1;34m\u001b[0m\n\u001b[0;32m     10\u001b[0m \u001b[0mprint\u001b[0m\u001b[1;33m(\u001b[0m\u001b[0mo1\u001b[0m\u001b[1;33m+\u001b[0m\u001b[0mo2\u001b[0m\u001b[1;33m)\u001b[0m\u001b[1;33m\u001b[0m\u001b[1;33m\u001b[0m\u001b[0m\n\u001b[0;32m     11\u001b[0m \u001b[0mprint\u001b[0m\u001b[1;33m(\u001b[0m\u001b[0mo3\u001b[0m\u001b[1;33m+\u001b[0m\u001b[0mo4\u001b[0m\u001b[1;33m)\u001b[0m\u001b[1;33m\u001b[0m\u001b[1;33m\u001b[0m\u001b[0m\n\u001b[1;32m---> 12\u001b[1;33m \u001b[0mprint\u001b[0m\u001b[1;33m(\u001b[0m\u001b[0mo1\u001b[0m\u001b[1;33m+\u001b[0m\u001b[0mo3\u001b[0m\u001b[1;33m)\u001b[0m\u001b[1;33m\u001b[0m\u001b[1;33m\u001b[0m\u001b[0m\n\u001b[0m",
      "\u001b[1;32m<ipython-input-13-e6bc94e41686>\u001b[0m in \u001b[0;36m__add__\u001b[1;34m(self, other)\u001b[0m\n\u001b[0;32m      3\u001b[0m         \u001b[0mself\u001b[0m\u001b[1;33m.\u001b[0m\u001b[0ma\u001b[0m\u001b[1;33m=\u001b[0m\u001b[0ma\u001b[0m\u001b[1;33m\u001b[0m\u001b[1;33m\u001b[0m\u001b[0m\n\u001b[0;32m      4\u001b[0m     \u001b[1;32mdef\u001b[0m \u001b[0m__add__\u001b[0m\u001b[1;33m(\u001b[0m\u001b[0mself\u001b[0m\u001b[1;33m,\u001b[0m\u001b[0mother\u001b[0m\u001b[1;33m)\u001b[0m\u001b[1;33m:\u001b[0m\u001b[1;33m\u001b[0m\u001b[1;33m\u001b[0m\u001b[0m\n\u001b[1;32m----> 5\u001b[1;33m         \u001b[1;32mreturn\u001b[0m \u001b[0mself\u001b[0m\u001b[1;33m.\u001b[0m\u001b[0ma\u001b[0m\u001b[1;33m+\u001b[0m\u001b[0mother\u001b[0m\u001b[1;33m.\u001b[0m\u001b[0ma\u001b[0m\u001b[1;33m\u001b[0m\u001b[1;33m\u001b[0m\u001b[0m\n\u001b[0m\u001b[0;32m      6\u001b[0m \u001b[0mo1\u001b[0m\u001b[1;33m=\u001b[0m\u001b[0mA\u001b[0m\u001b[1;33m(\u001b[0m\u001b[1;36m1\u001b[0m\u001b[1;33m)\u001b[0m\u001b[1;33m\u001b[0m\u001b[1;33m\u001b[0m\u001b[0m\n\u001b[0;32m      7\u001b[0m \u001b[0mo2\u001b[0m\u001b[1;33m=\u001b[0m\u001b[0mA\u001b[0m\u001b[1;33m(\u001b[0m\u001b[1;36m2\u001b[0m\u001b[1;33m)\u001b[0m\u001b[1;33m\u001b[0m\u001b[1;33m\u001b[0m\u001b[0m\n",
      "\u001b[1;31mTypeError\u001b[0m: unsupported operand type(s) for +: 'int' and 'str'"
     ]
    }
   ],
   "source": [
    "class A:\n",
    "    def __init__(self,a):\n",
    "        self.a=a\n",
    "    def __add__(self,other):\n",
    "        return self.a+other.a\n",
    "o1=A(1)\n",
    "o2=A(2)\n",
    "o3=A(\"hello\")\n",
    "o4=A(\"hi\")\n",
    "print(o1+o2)\n",
    "print(o3+o4)\n",
    "print(o1+o3)"
   ]
  },
  {
   "cell_type": "code",
   "execution_count": 15,
   "metadata": {},
   "outputs": [
    {
     "name": "stdout",
     "output_type": "stream",
     "text": [
      "3\n",
      "hellohi\n",
      "\n",
      "3\n",
      "hellohi\n"
     ]
    }
   ],
   "source": [
    "class A:\n",
    "    def __init__(self,a):\n",
    "        self.a=a\n",
    "    def __add__(self,other):\n",
    "        return self.a+other.a\n",
    "o1=A(1)\n",
    "o2=A(2)\n",
    "o3=A(\"hello\")\n",
    "o4=A(\"hi\")\n",
    "print(A.__add__(o1,o2))\n",
    "print(A.__add__(o3,o4))\n",
    "print()\n",
    "print(o1.__add__(o2))\n",
    "print(o3.__add__(o4))"
   ]
  },
  {
   "cell_type": "code",
   "execution_count": 18,
   "metadata": {},
   "outputs": [
    {
     "name": "stdout",
     "output_type": "stream",
     "text": [
      "o2 is greater then o1\n"
     ]
    }
   ],
   "source": [
    "class A:\n",
    "    def __init__(self,a):\n",
    "        self.a=a\n",
    "    def __gt__(self,other):\n",
    "        if self.a>other.a:\n",
    "            return True\n",
    "        else:\n",
    "            return False\n",
    "o1=A(2)\n",
    "o2=A(3)\n",
    "if o1>o2:\n",
    "    print('o1 is greater then o2')\n",
    "else:\n",
    "    print('o2 is greater then o1')"
   ]
  },
  {
   "cell_type": "code",
   "execution_count": null,
   "metadata": {},
   "outputs": [],
   "source": [
    "'''\n",
    "+ __add__(self,other)\n",
    "- __sub__(self,other)\n",
    "* __mul__(self,other)\n",
    "/ __truediv__(self,other)\n",
    "// __floordiv__(self,other)\n",
    "% __mod__(self,other)\n",
    "** __pow(self,other)\n",
    "\n",
    "< __lt__(self,other)\n",
    "> __gt__(self,other)\n",
    "<= __le__(self,other)\n",
    ">= __ge__(self,other)\n",
    "== __eq__(self,other)\n",
    "!= __ne__(self,other)\n",
    "'''"
   ]
  },
  {
   "cell_type": "code",
   "execution_count": 19,
   "metadata": {},
   "outputs": [
    {
     "name": "stdout",
     "output_type": "stream",
     "text": [
      "30\n",
      "10\n",
      "200\n",
      "2.0\n",
      "2\n",
      "0\n",
      "10240000000000\n"
     ]
    }
   ],
   "source": [
    "class A:\n",
    "    def __init__(self,a):\n",
    "        self.a=a\n",
    "    def __add__(self,other):\n",
    "        return self.a+other.a\n",
    "    def __sub__(self,other):\n",
    "        return self.a-other.a\n",
    "    def __mul__(self,other):\n",
    "        return self.a*other.a\n",
    "    def __truediv__(self,other):\n",
    "        return self.a/other.a\n",
    "    def __floordiv__(self,other):\n",
    "        return self.a//other.a\n",
    "    def __mod__(self,other):\n",
    "        return self.a%other.a\n",
    "    def __pow__(self,other):\n",
    "        return self.a**other.a\n",
    "o1=A(20)\n",
    "o2=A(10)\n",
    "print(o1.__add__(o2))\n",
    "print(o1.__sub__(o2))\n",
    "print(o1.__mul__(o2))\n",
    "print(o1.__truediv__(o2))\n",
    "print(o1.__floordiv__(o2))\n",
    "print(o1.__mod__(o2))\n",
    "print(o1.__pow__(o2))"
   ]
  },
  {
   "cell_type": "code",
   "execution_count": 21,
   "metadata": {},
   "outputs": [
    {
     "name": "stdout",
     "output_type": "stream",
     "text": [
      "o1 is less then o2\n",
      "o2 is greater then o1\n",
      "o1 is less equal to o2\n",
      "o2 is greater equal to o1\n",
      "o3 is equal to o4\n",
      "o5 is not equal to o6\n"
     ]
    }
   ],
   "source": [
    "class A:\n",
    "    def __init__(self,a):\n",
    "        self.a=a\n",
    "    def __lt__(self,other):\n",
    "        if self.a<other.a:\n",
    "            return True\n",
    "        else:\n",
    "            return False\n",
    "    def __gt__(self,other):\n",
    "        if self.a>other.a:\n",
    "            return True\n",
    "        else:\n",
    "            return False\n",
    "    def __le__(self,other):\n",
    "        if self.a<=other.a:\n",
    "            return True\n",
    "        else:\n",
    "            return False\n",
    "    def __ge__(self,other):\n",
    "        if self.a>=other.a:\n",
    "            return True\n",
    "        else:\n",
    "            return False\n",
    "    def __eq__(self,other):\n",
    "        if self.a==other.a:\n",
    "            return True\n",
    "        else:\n",
    "            return False\n",
    "    def __ne__(self,other):\n",
    "        if self.a!=other.a:\n",
    "            return True\n",
    "        else:\n",
    "            return False\n",
    "o1=A(2)\n",
    "o2=A(3)\n",
    "if o1<o2:\n",
    "    print('o1 is less then o2')\n",
    "else:\n",
    "    print('o2 is less then o1')\n",
    "if o1>o2:\n",
    "    print('o1 is greater then o2')\n",
    "else:\n",
    "    print('o2 is greater then o1')\n",
    "if o1<=o2:\n",
    "    print('o1 is less equal to o2')\n",
    "else:\n",
    "    print('o2 is less equal to o1')\n",
    "if o1>=o2:\n",
    "    print('o1 is greater equal to o2')\n",
    "else:\n",
    "    print('o2 is greater equal to o1')\n",
    "o3=A(10)\n",
    "o4=A(10)\n",
    "if o3==o4:\n",
    "    print('o3 is equal to o4')\n",
    "else:\n",
    "    print('o3 is not equal to o4')\n",
    "o5=A(10)\n",
    "o6=A(20)\n",
    "if o5!=o6:\n",
    "    print('o5 is not equal to o6')\n",
    "else:\n",
    "    print('o5 is equal to o6')"
   ]
  },
  {
   "cell_type": "markdown",
   "metadata": {},
   "source": [
    "Inheritance\n",
    "=\n",
    "- ability to inherit features or attributes from already written classes into newer classes we make\n",
    "- these features and attributes are defined data structures and the functions(methods) we can perform with them\n",
    "- it promotes code reusability\n",
    "- it makes code base modular"
   ]
  },
  {
   "cell_type": "markdown",
   "metadata": {},
   "source": [
    "Single Inheritance\n",
    "="
   ]
  },
  {
   "cell_type": "code",
   "execution_count": 23,
   "metadata": {},
   "outputs": [
    {
     "name": "stdout",
     "output_type": "stream",
     "text": [
      "hello parent\n",
      "hello child\n"
     ]
    }
   ],
   "source": [
    "class parent:\n",
    "    def func1(self):\n",
    "        print('hello parent')\n",
    "class child(parent):\n",
    "    def func2(self):\n",
    "        print('hello child')\n",
    "test=child()\n",
    "test.func1()\n",
    "test.func2()"
   ]
  },
  {
   "cell_type": "markdown",
   "metadata": {},
   "source": [
    "Multiple Inheritance\n",
    "="
   ]
  },
  {
   "cell_type": "code",
   "execution_count": 27,
   "metadata": {},
   "outputs": [
    {
     "name": "stdout",
     "output_type": "stream",
     "text": [
      "hello parent1\n",
      "hello parent2\n",
      "hello child\n",
      "(<class '__main__.child'>, <class '__main__.parent1'>, <class '__main__.parent2'>, <class '__main__.parent3'>, <class 'object'>)\n"
     ]
    }
   ],
   "source": [
    "class parent1:\n",
    "    def func1(self):\n",
    "        print('hello parent1')\n",
    "class parent2:\n",
    "    def func2(self):\n",
    "        print('hello parent2')\n",
    "class parent3:\n",
    "    def func2(self):\n",
    "        print('hello parent3')\n",
    "class child(parent1,parent2,parent3):\n",
    "#class child(parent1,parent3,parent2):\n",
    "    def func3(self):\n",
    "        print('hello child')\n",
    "test=child()\n",
    "test.func1()\n",
    "test.func2()\n",
    "test.func3()\n",
    "print(child.__mro__)"
   ]
  },
  {
   "cell_type": "markdown",
   "metadata": {},
   "source": [
    "Multilevel Inheritance\n",
    "="
   ]
  },
  {
   "cell_type": "code",
   "execution_count": 29,
   "metadata": {},
   "outputs": [
    {
     "name": "stdout",
     "output_type": "stream",
     "text": [
      "hello grandparent\n",
      "hello parent\n",
      "hello child\n",
      "(<class '__main__.child'>, <class '__main__.parent'>, <class '__main__.grandparent'>, <class 'object'>)\n"
     ]
    }
   ],
   "source": [
    "class grandparent:\n",
    "    def func1(self):\n",
    "        print('hello grandparent')\n",
    "class parent(grandparent):\n",
    "    def func2(self):\n",
    "        print('hello parent')\n",
    "class child(parent):\n",
    "    def func3(self):\n",
    "        print('hello child')\n",
    "test=child()\n",
    "test.func1()\n",
    "test.func2()\n",
    "test.func3()\n",
    "print(child.__mro__)"
   ]
  },
  {
   "cell_type": "markdown",
   "metadata": {},
   "source": [
    "Hierarchical Inheritance\n",
    "="
   ]
  },
  {
   "cell_type": "code",
   "execution_count": 3,
   "metadata": {},
   "outputs": [
    {
     "name": "stdout",
     "output_type": "stream",
     "text": [
      "hello parent\n",
      "hello child1\n",
      "hello parent\n",
      "hello child2\n",
      "(<class '__main__.child1'>, <class '__main__.parent'>, <class 'object'>)\n",
      "(<class '__main__.child2'>, <class '__main__.parent'>, <class 'object'>)\n"
     ]
    }
   ],
   "source": [
    "class parent:\n",
    "    def func1(self):\n",
    "        print('hello parent')\n",
    "class child1(parent):\n",
    "    def func2(self):\n",
    "        print('hello child1')\n",
    "class child2(parent):\n",
    "    def func3(self):\n",
    "        print('hello child2')\n",
    "t1=child1()\n",
    "t1.func1()\n",
    "t1.func2()\n",
    "t2=child2()\n",
    "t2.func1()\n",
    "t2.func3()\n",
    "print(child1.__mro__)\n",
    "print(child2.__mro__)"
   ]
  },
  {
   "cell_type": "markdown",
   "metadata": {},
   "source": [
    "Hybrid Inheritance\n",
    "="
   ]
  },
  {
   "cell_type": "code",
   "execution_count": 8,
   "metadata": {},
   "outputs": [
    {
     "name": "stdout",
     "output_type": "stream",
     "text": [
      "hello parent1\n",
      "hello child1\n",
      "\n",
      "hello parent1\n",
      "hello parent2\n",
      "hello child1\n",
      "hello child2\n",
      "\n",
      "[<class '__main__.child1'>, <class '__main__.parent1'>, <class 'object'>]\n",
      "[<class '__main__.child2'>, <class '__main__.child1'>, <class '__main__.parent1'>, <class '__main__.parent2'>, <class 'object'>]\n"
     ]
    }
   ],
   "source": [
    "class parent1:\n",
    "    def f1(self):\n",
    "        print('hello parent1')\n",
    "class parent2:\n",
    "    def f2(self):\n",
    "        print('hello parent2')\n",
    "class child1(parent1):\n",
    "    def f3(self):\n",
    "        print('hello child1')\n",
    "class child2(child1,parent2):\n",
    "    def f4(self):\n",
    "        print('hello child2')\n",
    "t1=child1()\n",
    "t2=child2()\n",
    "t1.f1()\n",
    "t1.f3()\n",
    "print()\n",
    "t2.f1()\n",
    "t2.f2()\n",
    "t2.f3()\n",
    "t2.f4()\n",
    "print()\n",
    "print(child1.mro())\n",
    "print(child2.mro())"
   ]
  },
  {
   "cell_type": "markdown",
   "metadata": {},
   "source": [
    "super() function\n",
    "="
   ]
  },
  {
   "cell_type": "code",
   "execution_count": 13,
   "metadata": {},
   "outputs": [
    {
     "name": "stdout",
     "output_type": "stream",
     "text": [
      "50\n"
     ]
    }
   ],
   "source": [
    "class parent:\n",
    "    def __init__(self):\n",
    "        self.a1=50\n",
    "        self.a2=65\n",
    "class child(parent):\n",
    "    def __init__(self):\n",
    "        #parent.__init__(self)\n",
    "        super().__init__() \n",
    "        self.a3=45\n",
    "test=child()\n",
    "print(test.a1)"
   ]
  },
  {
   "cell_type": "markdown",
   "metadata": {},
   "source": [
    "- issubclass()\n",
    "- isinstance()"
   ]
  },
  {
   "cell_type": "code",
   "execution_count": 17,
   "metadata": {},
   "outputs": [
    {
     "name": "stdout",
     "output_type": "stream",
     "text": [
      "True\n",
      "False\n",
      "\n",
      "True\n",
      "True\n",
      "False\n",
      "True\n"
     ]
    }
   ],
   "source": [
    "class parent:\n",
    "    def f1(self):\n",
    "        print('hello parent')\n",
    "class child(parent):\n",
    "    def f2(self):\n",
    "        print('hello child')\n",
    "print(issubclass(child,parent))\n",
    "print(issubclass(parent,child))\n",
    "print()\n",
    "A=child()\n",
    "B=parent()\n",
    "print(isinstance(A,child))\n",
    "print(isinstance(A,parent))\n",
    "print(isinstance(B,child))\n",
    "print(isinstance(B,parent)) "
   ]
  },
  {
   "cell_type": "markdown",
   "metadata": {},
   "source": [
    "MRO-Method Resolution Order\n",
    "="
   ]
  },
  {
   "cell_type": "code",
   "execution_count": 25,
   "metadata": {},
   "outputs": [
    {
     "name": "stdout",
     "output_type": "stream",
     "text": [
      "class B\n",
      "[<class '__main__.D'>, <class '__main__.B'>, <class '__main__.C'>, <class '__main__.A'>, <class 'object'>]\n",
      "[<class '__main__.C'>, <class '__main__.A'>, <class 'object'>]\n",
      "[<class '__main__.B'>, <class '__main__.A'>, <class 'object'>]\n"
     ]
    }
   ],
   "source": [
    "class A:\n",
    "    def rk(self):\n",
    "        print('class A')\n",
    "class B(A):\n",
    "    def rk(self):\n",
    "        print('class B')\n",
    "class C(A):\n",
    "    def rk(self):\n",
    "        print('class C')\n",
    "class D(B,C):\n",
    "    pass\n",
    "r=D()\n",
    "r.rk()\n",
    "print(D.mro())\n",
    "print(C.mro())\n",
    "print(B.mro())"
   ]
  },
  {
   "cell_type": "code",
   "execution_count": 28,
   "metadata": {},
   "outputs": [
    {
     "name": "stdout",
     "output_type": "stream",
     "text": [
      "bar from c2\n",
      "foo from p1\n"
     ]
    },
    {
     "data": {
      "text/plain": [
       "[__main__.GC, __main__.c1, __main__.p1, __main__.c2, __main__.p2, object]"
      ]
     },
     "execution_count": 28,
     "metadata": {},
     "output_type": "execute_result"
    }
   ],
   "source": [
    "class p1:\n",
    "    def foo(self):\n",
    "        print('foo from p1')\n",
    "class p2:\n",
    "    def foo(self):\n",
    "        print('foo from p2')\n",
    "    def bar(self):\n",
    "        print('bar from p2')\n",
    "class c1(p1):\n",
    "    pass\n",
    "class c2(p2):\n",
    "    def bar(self):\n",
    "        print('bar from c2')\n",
    "class GC(c1,c2):\n",
    "    pass\n",
    "gc=GC()\n",
    "gc.bar()\n",
    "gc.foo()\n",
    "GC.mro()"
   ]
  },
  {
   "cell_type": "code",
   "execution_count": 29,
   "metadata": {},
   "outputs": [
    {
     "name": "stdout",
     "output_type": "stream",
     "text": [
      "bar from c2\n",
      "foo from p1\n"
     ]
    },
    {
     "data": {
      "text/plain": [
       "[__main__.GC, __main__.c1, __main__.c2, __main__.p1, object]"
      ]
     },
     "execution_count": 29,
     "metadata": {},
     "output_type": "execute_result"
    }
   ],
   "source": [
    "class p1:\n",
    "    def foo(self):\n",
    "        print('foo from p1')\n",
    "class p2:\n",
    "    def foo(self):\n",
    "        print('foo from p2')\n",
    "    def bar(self):\n",
    "        print('bar from p2')\n",
    "class c1(p1):\n",
    "    pass\n",
    "class c2(p1):\n",
    "    def bar(self):\n",
    "        print('bar from c2')\n",
    "class GC(c1,c2):\n",
    "    pass\n",
    "gc=GC()\n",
    "gc.bar()\n",
    "gc.foo()\n",
    "GC.mro()"
   ]
  },
  {
   "cell_type": "code",
   "execution_count": 30,
   "metadata": {},
   "outputs": [
    {
     "name": "stdout",
     "output_type": "stream",
     "text": [
      "bar from p2\n",
      "foo from p2\n"
     ]
    },
    {
     "data": {
      "text/plain": [
       "[__main__.GC, __main__.c1, __main__.p2, __main__.c2, __main__.p1, object]"
      ]
     },
     "execution_count": 30,
     "metadata": {},
     "output_type": "execute_result"
    }
   ],
   "source": [
    "class p1:\n",
    "    def foo(self):\n",
    "        print('foo from p1')\n",
    "class p2:\n",
    "    def foo(self):\n",
    "        print('foo from p2')\n",
    "    def bar(self):\n",
    "        print('bar from p2')\n",
    "class c1(p2):\n",
    "    pass\n",
    "class c2(p1):\n",
    "    def bar(self):\n",
    "        print('bar from c2')\n",
    "class GC(c1,c2):\n",
    "    pass\n",
    "gc=GC()\n",
    "gc.bar()\n",
    "gc.foo()\n",
    "GC.mro()"
   ]
  },
  {
   "cell_type": "code",
   "execution_count": 31,
   "metadata": {},
   "outputs": [
    {
     "name": "stdout",
     "output_type": "stream",
     "text": [
      "bar from c2\n",
      "foo from p1\n"
     ]
    },
    {
     "data": {
      "text/plain": [
       "[__main__.GC, __main__.c1, __main__.c2, __main__.p1, __main__.p2, object]"
      ]
     },
     "execution_count": 31,
     "metadata": {},
     "output_type": "execute_result"
    }
   ],
   "source": [
    "class p1:\n",
    "    def foo(self):\n",
    "        print('foo from p1')\n",
    "class p2:\n",
    "    def foo(self):\n",
    "        print('foo from p2')\n",
    "    def bar(self):\n",
    "        print('bar from p2')\n",
    "class c1(p1,p2):\n",
    "    pass\n",
    "class c2(p1,p2):\n",
    "    def bar(self):\n",
    "        print('bar from c2')\n",
    "class GC(c1,c2):\n",
    "    pass\n",
    "gc=GC()\n",
    "gc.bar()\n",
    "gc.foo()\n",
    "GC.mro()"
   ]
  },
  {
   "cell_type": "code",
   "execution_count": 32,
   "metadata": {},
   "outputs": [
    {
     "ename": "TypeError",
     "evalue": "Cannot create a consistent method resolution\norder (MRO) for bases p1, p2",
     "output_type": "error",
     "traceback": [
      "\u001b[1;31m---------------------------------------------------------------------------\u001b[0m",
      "\u001b[1;31mTypeError\u001b[0m                                 Traceback (most recent call last)",
      "\u001b[1;32m<ipython-input-32-7fc8838169c6>\u001b[0m in \u001b[0;36m<module>\u001b[1;34m\u001b[0m\n\u001b[0;32m     12\u001b[0m     \u001b[1;32mdef\u001b[0m \u001b[0mbar\u001b[0m\u001b[1;33m(\u001b[0m\u001b[0mself\u001b[0m\u001b[1;33m)\u001b[0m\u001b[1;33m:\u001b[0m\u001b[1;33m\u001b[0m\u001b[1;33m\u001b[0m\u001b[0m\n\u001b[0;32m     13\u001b[0m         \u001b[0mprint\u001b[0m\u001b[1;33m(\u001b[0m\u001b[1;34m'bar from c2'\u001b[0m\u001b[1;33m)\u001b[0m\u001b[1;33m\u001b[0m\u001b[1;33m\u001b[0m\u001b[0m\n\u001b[1;32m---> 14\u001b[1;33m \u001b[1;32mclass\u001b[0m \u001b[0mGC\u001b[0m\u001b[1;33m(\u001b[0m\u001b[0mc1\u001b[0m\u001b[1;33m,\u001b[0m\u001b[0mc2\u001b[0m\u001b[1;33m)\u001b[0m\u001b[1;33m:\u001b[0m\u001b[1;33m\u001b[0m\u001b[1;33m\u001b[0m\u001b[0m\n\u001b[0m\u001b[0;32m     15\u001b[0m     \u001b[1;32mpass\u001b[0m\u001b[1;33m\u001b[0m\u001b[1;33m\u001b[0m\u001b[0m\n\u001b[0;32m     16\u001b[0m \u001b[0mgc\u001b[0m\u001b[1;33m=\u001b[0m\u001b[0mGC\u001b[0m\u001b[1;33m(\u001b[0m\u001b[1;33m)\u001b[0m\u001b[1;33m\u001b[0m\u001b[1;33m\u001b[0m\u001b[0m\n",
      "\u001b[1;31mTypeError\u001b[0m: Cannot create a consistent method resolution\norder (MRO) for bases p1, p2"
     ]
    }
   ],
   "source": [
    "class p1:\n",
    "    def foo(self):\n",
    "        print('foo from p1')\n",
    "class p2:\n",
    "    def foo(self):\n",
    "        print('foo from p2')\n",
    "    def bar(self):\n",
    "        print('bar from p2')\n",
    "class c1(p1,p2):\n",
    "    pass\n",
    "class c2(p2,p1):\n",
    "    def bar(self):\n",
    "        print('bar from c2')\n",
    "class GC(c1,c2):\n",
    "    pass\n",
    "gc=GC()\n",
    "gc.bar()\n",
    "gc.foo()\n",
    "GC.mro()"
   ]
  },
  {
   "cell_type": "code",
   "execution_count": 33,
   "metadata": {},
   "outputs": [
    {
     "name": "stdout",
     "output_type": "stream",
     "text": [
      "bar from c2\n",
      "foo from p1\n"
     ]
    },
    {
     "data": {
      "text/plain": [
       "[__main__.GC, __main__.c1, __main__.c2, __main__.p1, __main__.p2, object]"
      ]
     },
     "execution_count": 33,
     "metadata": {},
     "output_type": "execute_result"
    }
   ],
   "source": [
    "class p1:\n",
    "    def foo(self):\n",
    "        print('foo from p1')\n",
    "class p2:\n",
    "    def foo(self):\n",
    "        print('foo from p2')\n",
    "    def bar(self):\n",
    "        print('bar from p2')\n",
    "class c1(p1,p2):\n",
    "    pass\n",
    "class c2(p1):\n",
    "    def bar(self):\n",
    "        print('bar from c2')\n",
    "class GC(c1,c2):\n",
    "    pass\n",
    "gc=GC()\n",
    "gc.bar()\n",
    "gc.foo()\n",
    "GC.mro()"
   ]
  },
  {
   "cell_type": "code",
   "execution_count": 34,
   "metadata": {},
   "outputs": [
    {
     "name": "stdout",
     "output_type": "stream",
     "text": [
      "bar from c2\n",
      "foo from p1\n"
     ]
    },
    {
     "data": {
      "text/plain": [
       "[__main__.GC, __main__.c1, __main__.p1, __main__.c2, __main__.p2, object]"
      ]
     },
     "execution_count": 34,
     "metadata": {},
     "output_type": "execute_result"
    }
   ],
   "source": [
    "class p1:\n",
    "    def foo(self):\n",
    "        print('foo from p1')\n",
    "class p2:\n",
    "    def foo(self):\n",
    "        print('foo from p2')\n",
    "    def bar(self):\n",
    "        print('bar from p2')\n",
    "class c1(p1,p2):\n",
    "    pass\n",
    "class c2(p2):\n",
    "    def bar(self):\n",
    "        print('bar from c2')\n",
    "class GC(c1,c2):\n",
    "    pass\n",
    "gc=GC()\n",
    "gc.bar()\n",
    "gc.foo()\n",
    "GC.mro()"
   ]
  },
  {
   "cell_type": "markdown",
   "metadata": {},
   "source": [
    "Abstract Class\n",
    "=\n",
    "- abstraction is implemented using abstract class \n",
    "- abstract class is created to declare a set of methods that must be created in any child class built on top of this abstract class\n",
    "- abstract method doesn't have any implementation\n",
    "- ABC module required from abc(abstract base class)\n",
    "- inherit ABC class from module abc"
   ]
  },
  {
   "cell_type": "code",
   "execution_count": 36,
   "metadata": {},
   "outputs": [
    {
     "name": "stdout",
     "output_type": "stream",
     "text": [
      "Draw circle\n"
     ]
    }
   ],
   "source": [
    "from abc import ABC,abstractmethod\n",
    "class shape(ABC):\n",
    "    def __init__(self,shape_name):\n",
    "        self.shape_name=shape_name\n",
    "    @abstractmethod\n",
    "    def draw(self):\n",
    "        pass\n",
    "class circle(shape):\n",
    "    def __init__(self):\n",
    "        super().__init__(\"circle\")\n",
    "    def draw(self):\n",
    "        print('Draw circle')\n",
    "c=circle()\n",
    "c.draw()"
   ]
  },
  {
   "cell_type": "code",
   "execution_count": 39,
   "metadata": {},
   "outputs": [
    {
     "ename": "TypeError",
     "evalue": "Can't instantiate abstract class circle with abstract methods draw",
     "output_type": "error",
     "traceback": [
      "\u001b[1;31m---------------------------------------------------------------------------\u001b[0m",
      "\u001b[1;31mTypeError\u001b[0m                                 Traceback (most recent call last)",
      "\u001b[1;32m<ipython-input-39-1d4fb62e5a9d>\u001b[0m in \u001b[0;36m<module>\u001b[1;34m\u001b[0m\n\u001b[0;32m     11\u001b[0m     \u001b[1;32mdef\u001b[0m \u001b[0mdraw_circle\u001b[0m\u001b[1;33m(\u001b[0m\u001b[0mself\u001b[0m\u001b[1;33m)\u001b[0m\u001b[1;33m:\u001b[0m\u001b[1;33m\u001b[0m\u001b[1;33m\u001b[0m\u001b[0m\n\u001b[0;32m     12\u001b[0m         \u001b[0mprint\u001b[0m\u001b[1;33m(\u001b[0m\u001b[1;34m'Draw circle'\u001b[0m\u001b[1;33m)\u001b[0m\u001b[1;33m\u001b[0m\u001b[1;33m\u001b[0m\u001b[0m\n\u001b[1;32m---> 13\u001b[1;33m \u001b[0mc\u001b[0m\u001b[1;33m=\u001b[0m\u001b[0mcircle\u001b[0m\u001b[1;33m(\u001b[0m\u001b[1;33m)\u001b[0m\u001b[1;33m\u001b[0m\u001b[1;33m\u001b[0m\u001b[0m\n\u001b[0m\u001b[0;32m     14\u001b[0m \u001b[0mc\u001b[0m\u001b[1;33m.\u001b[0m\u001b[0mdraw_circle\u001b[0m\u001b[1;33m(\u001b[0m\u001b[1;33m)\u001b[0m\u001b[1;33m\u001b[0m\u001b[1;33m\u001b[0m\u001b[0m\n",
      "\u001b[1;31mTypeError\u001b[0m: Can't instantiate abstract class circle with abstract methods draw"
     ]
    }
   ],
   "source": [
    "from abc import ABC,abstractmethod\n",
    "class shape(ABC):\n",
    "    def __init__(self,shape_name):\n",
    "        self.shape_name=shape_name\n",
    "    @abstractmethod\n",
    "    def draw(self):\n",
    "        pass\n",
    "class circle(shape):\n",
    "    def __init__(self):\n",
    "        super().__init__(\"circle\")\n",
    "    def draw_circle(self):\n",
    "        print('Draw circle')\n",
    "c=circle()\n",
    "c.draw_circle()"
   ]
  },
  {
   "cell_type": "code",
   "execution_count": 40,
   "metadata": {},
   "outputs": [
    {
     "name": "stdout",
     "output_type": "stream",
     "text": [
      "Draw circle\n"
     ]
    }
   ],
   "source": [
    "from abc import ABC,abstractmethod\n",
    "class shape(ABC):\n",
    "    def __init__(self,shape_name):\n",
    "        self.shape_name=shape_name\n",
    "    @abstractmethod\n",
    "    def draw(self):\n",
    "        pass\n",
    "class circle(shape):\n",
    "    def __init__(self):\n",
    "        super().__init__(\"circle\")\n",
    "    def draw(self):\n",
    "        pass\n",
    "    def draw_circle(self):\n",
    "        print('Draw circle')\n",
    "c=circle()\n",
    "c.draw_circle()"
   ]
  },
  {
   "cell_type": "code",
   "execution_count": 5,
   "metadata": {},
   "outputs": [
    {
     "name": "stdout",
     "output_type": "stream",
     "text": [
      "[<class '__main__.Z'>, <class '__main__.k1'>, <class '__main__.C'>, <class '__main__.k3'>, <class '__main__.A'>, <class '__main__.k2'>, <class '__main__.B'>, <class '__main__.D'>, <class '__main__.E'>, <class 'object'>]\n"
     ]
    }
   ],
   "source": [
    "class A:pass\n",
    "class B:pass\n",
    "class C:pass\n",
    "class D:pass\n",
    "class E:pass\n",
    "class k1(C,A,B):pass\n",
    "class k3(A,D):pass\n",
    "class k2(B,D,E):pass\n",
    "class Z(k1,k3,k2):pass\n",
    "print(Z.mro())"
   ]
  },
  {
   "cell_type": "code",
   "execution_count": 8,
   "metadata": {},
   "outputs": [
    {
     "name": "stdout",
     "output_type": "stream",
     "text": [
      "[<class '__main__.Z'>, <class '__main__.k1'>, <class '__main__.C'>, <class '__main__.k3'>, <class '__main__.A'>, <class '__main__.k2'>, <class '__main__.B'>, <class '__main__.D'>, <class '__main__.F'>, <class '__main__.E'>, <class 'object'>]\n"
     ]
    }
   ],
   "source": [
    "class A:pass\n",
    "class B:pass\n",
    "class C:pass\n",
    "class D:pass\n",
    "class E:pass\n",
    "class F:pass\n",
    "class k1(C,A,B):pass\n",
    "class k3(A,D,F):pass\n",
    "class k2(B,D,E):pass\n",
    "class Z(k1,k3,k2):pass\n",
    "print(Z.mro())"
   ]
  },
  {
   "cell_type": "code",
   "execution_count": 10,
   "metadata": {},
   "outputs": [
    {
     "name": "stdout",
     "output_type": "stream",
     "text": [
      "[<class '__main__.Z'>, <class '__main__.k1'>, <class '__main__.C'>, <class '__main__.k2'>, <class '__main__.k3'>, <class '__main__.A'>, <class '__main__.B'>, <class '__main__.D'>, <class '__main__.E'>, <class '__main__.F'>, <class 'object'>]\n"
     ]
    }
   ],
   "source": [
    "class A:pass\n",
    "class B:pass\n",
    "class C:pass\n",
    "class D:pass\n",
    "class E:pass\n",
    "class F:pass\n",
    "class k1(C,A,B):pass\n",
    "class k3(A,D,F):pass\n",
    "class k2(B,D,E):pass\n",
    "class Z(k1,k2,k3):pass\n",
    "print(Z.mro())"
   ]
  },
  {
   "cell_type": "code",
   "execution_count": null,
   "metadata": {},
   "outputs": [],
   "source": []
  }
 ],
 "metadata": {
  "kernelspec": {
   "display_name": "Python 3",
   "language": "python",
   "name": "python3"
  },
  "language_info": {
   "codemirror_mode": {
    "name": "ipython",
    "version": 3
   },
   "file_extension": ".py",
   "mimetype": "text/x-python",
   "name": "python",
   "nbconvert_exporter": "python",
   "pygments_lexer": "ipython3",
   "version": "3.8.5"
  }
 },
 "nbformat": 4,
 "nbformat_minor": 4
}
