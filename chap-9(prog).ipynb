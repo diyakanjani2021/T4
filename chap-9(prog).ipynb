{
 "cells": [
  {
   "cell_type": "code",
   "execution_count": 1,
   "metadata": {},
   "outputs": [
    {
     "data": {
      "text/plain": [
       "'\\nclass book-name,no of authors,authors name(list of authors),publisher,ISBN,year\\nconstructor, display method\\ncoursebook(inherit book)-course name\\ndisplay method\\n'"
      ]
     },
     "execution_count": 1,
     "metadata": {},
     "output_type": "execute_result"
    }
   ],
   "source": [
    "'''\n",
    "class book-name,no of authors,authors name(list of authors),publisher,ISBN,year\n",
    "constructor, display method\n",
    "coursebook(inherit book)-course name\n",
    "display method\n",
    "'''"
   ]
  },
  {
   "cell_type": "code",
   "execution_count": 2,
   "metadata": {},
   "outputs": [
    {
     "name": "stdout",
     "output_type": "stream",
     "text": [
      "book name: abc\n",
      "no of authors: 3\n",
      "publisher: dva\n",
      "isbn: 1001\n",
      "year: 1990\n",
      "course name: CSE\n"
     ]
    }
   ],
   "source": [
    "class book:\n",
    "    def __init__(self,bname,n,aname,publisher,isbn,year):\n",
    "        self.bname=bname\n",
    "        self.n=n\n",
    "        self.aname=[]\n",
    "        self.publisher=publisher\n",
    "        self.isbn=isbn\n",
    "        self.year=year\n",
    "    def display(self):\n",
    "        print('book name:',self.bname)\n",
    "        print('no of authors:',self.n)\n",
    "        print('publisher:',self.publisher)\n",
    "        print('isbn:',self.isbn)\n",
    "        print('year:',self.year)\n",
    "class coursename(book):\n",
    "    def __init__(self,bname,n,aname,publisher,isbn,year,cname):\n",
    "        super().__init__(bname,n,aname,publisher,isbn,year)\n",
    "        self.cname=cname\n",
    "    def display(self):\n",
    "        super().display()\n",
    "        print('course name:',self.cname)\n",
    "x1=coursename('abc',3,'gfd','dva',1001,1990,'CSE')\n",
    "x1.display()"
   ]
  },
  {
   "cell_type": "code",
   "execution_count": 3,
   "metadata": {},
   "outputs": [
    {
     "data": {
      "text/plain": [
       "'\\nCreate class staff. Take name and salary as its data member\\nThe derived class teaching as subject as its data members and class non teaching has department\\nas its data member\\nThe derived class method overrides the methods of the base class\\n'"
      ]
     },
     "execution_count": 3,
     "metadata": {},
     "output_type": "execute_result"
    }
   ],
   "source": [
    "'''\n",
    "Create class staff. Take name and salary as its data member\n",
    "The derived class teaching as subject as its data members and class non teaching has department\n",
    "as its data member\n",
    "The derived class method overrides the methods of the base class\n",
    "'''"
   ]
  },
  {
   "cell_type": "code",
   "execution_count": 4,
   "metadata": {},
   "outputs": [
    {
     "name": "stdout",
     "output_type": "stream",
     "text": [
      "Name: abc\n",
      "Salary: 50000\n",
      "Subject: python\n",
      "Name: xyz\n",
      "Salary: 60000\n",
      "Department: CSE\n"
     ]
    }
   ],
   "source": [
    "class staff:\n",
    "    def __init__(self,name,salary):\n",
    "        self.name=name\n",
    "        self.salary=salary\n",
    "    def display(self):\n",
    "        print('Name:',self.name)\n",
    "        print('Salary:',self.salary)\n",
    "class teaching(staff):\n",
    "    def __init__(self,name,salary,subject):\n",
    "        super().__init__(name,salary)\n",
    "        self.subject=subject\n",
    "    def display(self):\n",
    "        super().display()\n",
    "        print('Subject:',self.subject)\n",
    "class non_teaching(staff):\n",
    "    def __init__(self,name,salary,dept):\n",
    "        super().__init__(name,salary)\n",
    "        self.dept=dept\n",
    "    def display(self):\n",
    "        super().display()\n",
    "        print('Department:',self.dept)\n",
    "x1=teaching('abc',50000,'python')\n",
    "x1.display()\n",
    "x2=non_teaching('xyz',60000,'CSE')\n",
    "x2.display()"
   ]
  },
  {
   "cell_type": "code",
   "execution_count": 5,
   "metadata": {},
   "outputs": [
    {
     "data": {
      "text/plain": [
       "'\\ncreate a class student having name and email as its data members and constructor and putdata as\\nbound methods\\nthe init func should assign the values passed as parameters to the variables\\nthe put data func should display the data of the student\\ncreate another class called phd_guide having name and email as its data members \\nyou can use students as a variable as a blank list\\nthe students variable is the list of students under the guide\\nthe phd_guide class have 4 bound methods: init, putdata, add, remove\\nthe init method should initialize the variable \\nthe putdata should show the data of guide including the list of students\\nthe add method should add a student to the list of students of the guide\\nthe remove func should remove the student if student exists in the list of students\\nputdata--->display func\\n'"
      ]
     },
     "execution_count": 5,
     "metadata": {},
     "output_type": "execute_result"
    }
   ],
   "source": [
    "'''\n",
    "create a class student having name and email as its data members and constructor and putdata as\n",
    "bound methods\n",
    "the init func should assign the values passed as parameters to the variables\n",
    "the put data func should display the data of the student\n",
    "create another class called phd_guide having name and email as its data members \n",
    "you can use students as a variable as a blank list\n",
    "the students variable is the list of students under the guide\n",
    "the phd_guide class have 4 bound methods: init, putdata, add, remove\n",
    "the init method should initialize the variable \n",
    "the putdata should show the data of guide including the list of students\n",
    "the add method should add a student to the list of students of the guide\n",
    "the remove func should remove the student if student exists in the list of students\n",
    "putdata--->display func\n",
    "'''"
   ]
  },
  {
   "cell_type": "code",
   "execution_count": 6,
   "metadata": {},
   "outputs": [
    {
     "name": "stdout",
     "output_type": "stream",
     "text": [
      "Name: abc\n",
      "Email: abc@gmail.com\n",
      "List of students: ['xyz', 'pqr']\n",
      "Name: abc\n",
      "Email: abc@gmail.com\n",
      "List of students: ['pqr']\n",
      "Not present in list\n"
     ]
    }
   ],
   "source": [
    "class student:\n",
    "    def __init__(self,name,email):\n",
    "        self.name=name\n",
    "        self.email=email\n",
    "    def putdata(self):\n",
    "        print('Name:',self.name)\n",
    "        print('Email:',self.email)\n",
    "class phd_guide(student):\n",
    "    def __init__(self,name,email):\n",
    "        super().__init__(name,email)\n",
    "        self.students=[]\n",
    "    def putdata(self):\n",
    "        super().putdata()\n",
    "        print('List of students:',self.students)\n",
    "    def add(self,student):\n",
    "        self.students.append(student)\n",
    "    def remove(self,student):\n",
    "        if student in self.students:\n",
    "            self.students.remove(student)\n",
    "        else:\n",
    "            print('Not present in list')\n",
    "x1=phd_guide('abc','abc@gmail.com')\n",
    "x1.add('xyz')\n",
    "x1.add('pqr')\n",
    "x1.putdata()\n",
    "x1.remove('xyz')\n",
    "x1.putdata()\n",
    "x1.remove('xyz')"
   ]
  },
  {
   "cell_type": "code",
   "execution_count": 5,
   "metadata": {},
   "outputs": [
    {
     "data": {
      "text/plain": [
       "'\\ncreate 3 classes employee,perks and net salary\\nname employee class as an abstract employee class should have methods 1.to get emp details like id,\\nname,salary from user 2.to print emp details 3.to return salary 4.an abstract method emp_id\\nperks class should have method for the following 1.to calculate da,hra and pf 2.to print the \\nindividual and total perks\\nnet salary emp class should have methods 1.calculate the total salary after perks 2.print emp details\\nwith da,hra,pf and net salary\\n'"
      ]
     },
     "execution_count": 5,
     "metadata": {},
     "output_type": "execute_result"
    }
   ],
   "source": [
    "'''\n",
    "create 3 classes employee,perks and net salary\n",
    "name employee class as an abstract employee class should have methods 1.to get emp details like id,\n",
    "name,salary from user 2.to print emp details 3.to return salary 4.an abstract method emp_id\n",
    "perks class should have method for the following 1.to calculate da,hra and pf 2.to print the \n",
    "individual and total perks\n",
    "net salary emp class should have methods 1.calculate the total salary after perks 2.print emp details\n",
    "with da,hra,pf and net salary\n",
    "'''"
   ]
  },
  {
   "cell_type": "code",
   "execution_count": 4,
   "metadata": {},
   "outputs": [
    {
     "name": "stdout",
     "output_type": "stream",
     "text": [
      "enter emp id 1\n",
      "enter emp name abc\n",
      "enter emp salary 50000\n",
      "ID: 1\n",
      "Name: abc\n",
      "Salary: 50000\n",
      "DA: 17500.0\n",
      "HRA: 8500.0\n",
      "PF: 6000.0\n",
      "total salary: 70000.0\n"
     ]
    }
   ],
   "source": [
    "from abc import ABC,abstractmethod\n",
    "class employee(ABC):\n",
    "    def getemp(self):\n",
    "        self.id=int(input('enter emp id '))\n",
    "        self.name=input('enter emp name ')      \n",
    "        self.salary=int(input('enter emp salary '))   \n",
    "    def empdetails(self):\n",
    "        print('ID:',self.id)\n",
    "        print('Name:',self.name)        \n",
    "        print('Salary:',self.salary)        \n",
    "    def getSalary(self):\n",
    "        return self.salary\n",
    "    @abstractmethod\n",
    "    def emp_id(self):\n",
    "        pass\n",
    "class perks(employee):\n",
    "    def calcperks(self):\n",
    "        self.getemp()\n",
    "        sal=self.getSalary()\n",
    "        self.da=sal*(35/100)\n",
    "        self.hra=sal*(17/100)        \n",
    "        self.pf=sal*(12/100)        \n",
    "    def printperks(self):\n",
    "        self.empdetails()\n",
    "        print('DA:',self.da)\n",
    "        print('HRA:',self.hra)        \n",
    "        print('PF:',self.pf)        \n",
    "    def totalperks(self):\n",
    "        t=self.da + self.hra - self.pf\n",
    "        return t\n",
    "    def emp_id(self):\n",
    "        pass\n",
    "class netsalary(perks):\n",
    "    def gettotal(self):\n",
    "        self.calcperks()\n",
    "        self.ns=self.getSalary()+self.totalperks()\n",
    "        self.printperks()\n",
    "        print('total salary:',self.ns)\n",
    "empsal=netsalary()\n",
    "empsal.gettotal()"
   ]
  },
  {
   "cell_type": "code",
   "execution_count": 9,
   "metadata": {},
   "outputs": [
    {
     "name": "stdout",
     "output_type": "stream",
     "text": [
      "hdd 5000\n",
      "want this item? y/n y\n",
      "enter no of hdd's 1\n",
      "\n",
      "RAM 2000\n",
      "want this item? y/n y\n",
      "enter no of RAM's 1\n",
      "\n",
      "printer 6000\n",
      "want this item? y/n n\n",
      "\n",
      "pendrive 800\n",
      "want this item? y/n y\n",
      "enter no of pendrive's 3\n",
      "\n",
      "1.cash payment...2.cheque payment\n",
      "enter payment method 2\n",
      "enter cheque no 101010\n",
      "enter bank name sbi\n",
      "\n",
      "payment method is by cheque\n",
      "Total amount to pay: 9400\n",
      "cheque no: 101010\n",
      "bank name: sbi\n"
     ]
    }
   ],
   "source": [
    "class bill:\n",
    "    rates={'hdd':5000,'RAM':2000,'printer':6000,'pendrive':800}\n",
    "    Items={'hdd':0,'RAM':0,'printer':0,'pendrive':0}\n",
    "    for i,j in rates.items():\n",
    "        print(i,j)\n",
    "        accept=input('want this item? y/n ').upper()\n",
    "        if accept=='Y':\n",
    "            Items[i]=int(input('enter no of '+i+\"'s \"))*rates[i]\n",
    "        print()\n",
    "    def __init__(self):\n",
    "        print('1.cash payment...2.cheque payment')\n",
    "        payment_method=int(input('enter payment method '))\n",
    "        if payment_method==1:\n",
    "            cashpayment()\n",
    "        elif payment_method==2:\n",
    "            cheque_no=int(input('enter cheque no '))\n",
    "            bank=input('enter bank name ')\n",
    "            chequepayment(cheque_no,bank)\n",
    "        else:\n",
    "            print('enter valid input')\n",
    "class cashpayment(bill):\n",
    "    def __init__(self):\n",
    "        print()\n",
    "        print('payment method is cash')\n",
    "        sum=0\n",
    "        for i,j in self.Items.items():\n",
    "            sum+=j\n",
    "        print('total amount to pay:',sum)\n",
    "        dic={'2000 note':2000,'500 note':500,'200 note':200,'100 note':100,'50 note':50,'20 note':20,'10 note':10}\n",
    "        print()\n",
    "        for i,j in dic.items():\n",
    "            if sum>=j:\n",
    "                print(i,\":\",sum//j)\n",
    "                sum=sum%j\n",
    "class chequepayment(bill):\n",
    "    def __init__(self,cheque_no,bank):\n",
    "        print()\n",
    "        print('payment method is by cheque')\n",
    "        sum=0\n",
    "        for i,j in self.Items.items():\n",
    "            sum+=j\n",
    "        print('Total amount to pay:',sum)\n",
    "        print('cheque no:',cheque_no)\n",
    "        print('bank name:',bank)\n",
    "customer=bill()"
   ]
  },
  {
   "cell_type": "code",
   "execution_count": 10,
   "metadata": {},
   "outputs": [
    {
     "data": {
      "text/plain": [
       "'\\nclass book-abstract class, methods-init,sell both abstract\\nclass fiction_book, parameter-title,author,quantity,price, sell func-reduce quantity if sold\\nclass nonfiction_book, parameter-title,author,quantity,price, sell-func-reduce quantity if sold\\nclass cart, 1.init(id) 2.addtocart(book)=append if sold 3,display cart 4.bill\\n'"
      ]
     },
     "execution_count": 10,
     "metadata": {},
     "output_type": "execute_result"
    }
   ],
   "source": [
    "'''\n",
    "class book-abstract class, methods-init,sell both abstract\n",
    "class fiction_book, parameter-title,author,quantity,price, sell func-reduce quantity if sold\n",
    "class nonfiction_book, parameter-title,author,quantity,price, sell-func-reduce quantity if sold\n",
    "class cart, 1.init(id) 2.addtocart(book)=append if sold 3,display cart 4.bill\n",
    "'''"
   ]
  },
  {
   "cell_type": "code",
   "execution_count": null,
   "metadata": {},
   "outputs": [],
   "source": [
    "from abc import ABC,abstractmethod\n",
    "class book(ABC):\n",
    "    @abstractmethod\n",
    "    def __init__(self):\n",
    "        pass\n",
    "    def sell(self):\n",
    "        pass\n",
    "class fiction_book(book):\n",
    "    def __init__(self,title,author,qty,price):\n",
    "        self.title=title\n",
    "        self.author=author\n",
    "        self.qty=qty\n",
    "        self.price=price\n",
    "    def sell(self):\n",
    "        \n",
    "class nonfiction_book(book):\n",
    "    def __init__(self,title,author,qty,price):\n",
    "        self.title=title\n",
    "        self.author=author\n",
    "        self.qty=qty\n",
    "        self.price=price        "
   ]
  }
 ],
 "metadata": {
  "kernelspec": {
   "display_name": "Python 3",
   "language": "python",
   "name": "python3"
  },
  "language_info": {
   "codemirror_mode": {
    "name": "ipython",
    "version": 3
   },
   "file_extension": ".py",
   "mimetype": "text/x-python",
   "name": "python",
   "nbconvert_exporter": "python",
   "pygments_lexer": "ipython3",
   "version": "3.8.5"
  }
 },
 "nbformat": 4,
 "nbformat_minor": 4
}
