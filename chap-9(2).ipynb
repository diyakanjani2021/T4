{
 "cells": [
  {
   "cell_type": "markdown",
   "metadata": {},
   "source": [
    "Numpy\n",
    "=\n",
    "- numerical python\n",
    "- used for working with arrays\n",
    "- created in 2005 by travis oliphant\n",
    "- list serves the purpose of arrays but they are slow to process\n",
    "- numpy provide array obj that is upto 50x faster then tradition python lists"
   ]
  },
  {
   "cell_type": "code",
   "execution_count": 2,
   "metadata": {},
   "outputs": [
    {
     "name": "stdout",
     "output_type": "stream",
     "text": [
      "size of each element of list in bytes  48\n",
      "size of whole list in bytes  48000\n",
      "size of each element of numpy array in bytes  4\n",
      "size of whole numpy array in bytes  4000\n"
     ]
    }
   ],
   "source": [
    "import numpy as np\n",
    "import sys\n",
    "\n",
    "#list\n",
    "s=range(1000)\n",
    "print('size of each element of list in bytes ', sys.getsizeof(s))\n",
    "print('size of whole list in bytes ', sys.getsizeof(s)*len(s))\n",
    "\n",
    "#numpy array\n",
    "D=np.arange(1000)\n",
    "print('size of each element of numpy array in bytes ', D.itemsize)\n",
    "print('size of whole numpy array in bytes ', D.itemsize*D.size)"
   ]
  },
  {
   "cell_type": "code",
   "execution_count": 31,
   "metadata": {},
   "outputs": [
    {
     "name": "stdout",
     "output_type": "stream",
     "text": [
      "42\n",
      "0\n",
      "<class 'numpy.ndarray'>\n",
      "\n",
      "[1 2 3 4 5]\n",
      "1\n",
      "<class 'numpy.ndarray'>\n",
      "\n",
      "[[1 2 3 4 5]]\n",
      "2\n",
      "<class 'numpy.ndarray'>\n",
      "\n",
      "[[[1 2 3 4 5]]]\n",
      "3\n",
      "<class 'numpy.ndarray'>\n",
      "\n",
      "[[1 2 3 4]\n",
      " [5 6 7 8]]\n",
      "2\n",
      "<class 'numpy.ndarray'>\n",
      "\n",
      "[1 2 3 4 5]\n",
      "4\n",
      "9\n",
      "\n",
      "2\n",
      "6\n",
      "4\n",
      "7\n",
      "\n",
      "6\n",
      "11\n",
      "2\n",
      "9\n",
      "12\n",
      "[[[ 1  2]\n",
      "  [ 4  5]]\n",
      "\n",
      " [[ 7  8]\n",
      "  [10 11]]]\n",
      "[[ 3  6]\n",
      " [ 9 12]]\n",
      "[[ 4  5]\n",
      " [10 11]]\n",
      "[[[ 4  5]]\n",
      "\n",
      " [[10 11]]]\n",
      "[ 6 12]\n",
      "\n",
      "8\n",
      "[5 6 7]\n",
      "[3 7]\n",
      "\n",
      "[2 3]\n",
      "[2 3 4 5]\n",
      "[2]\n",
      "[1 3 5]\n",
      "[3 4]\n",
      "[5 4 3 2 1]\n"
     ]
    }
   ],
   "source": [
    "import numpy as np\n",
    "arr=np.array(42)\n",
    "print(arr)\n",
    "print(arr.ndim) #dimension-0\n",
    "print(type(arr))\n",
    "print()\n",
    "\n",
    "arr=np.array([1,2,3,4,5])\n",
    "print(arr)\n",
    "print(arr.ndim) #dimension-1\n",
    "print(type(arr))\n",
    "print()\n",
    "\n",
    "arr=np.array([[1,2,3,4,5]])\n",
    "print(arr)\n",
    "print(arr.ndim) #dimension-2\n",
    "print(type(arr))\n",
    "print()\n",
    "\n",
    "arr=np.array([[[1,2,3,4,5]]])\n",
    "print(arr)\n",
    "print(arr.ndim) #dimension-3\n",
    "print(type(arr))\n",
    "print()\n",
    "\n",
    "arr=np.array([[1,2,3,4],[5,6,7,8]])\n",
    "print(arr)\n",
    "print(arr.ndim) #dimension\n",
    "print(type(arr))\n",
    "print()\n",
    "\n",
    "arr=np.array([1,2,3,4,5])\n",
    "print(arr)\n",
    "print(arr[3])\n",
    "#print(arr[5]) IndexError\n",
    "print(arr[3]+arr[4]) # 4+5=9\n",
    "print()\n",
    "\n",
    "arr1=np.array([[1,2,3,4],[5,6,7,8]])\n",
    "print(arr1[0,1])  # arr1[0][1]\n",
    "print(arr1[1,1])\n",
    "print(arr1[0,3])\n",
    "print(arr1[1,2])\n",
    "print()\n",
    "\n",
    "arr=np.array([[[1,2,3],[4,5,6]],[[7,8,9],[10,11,12]]])\n",
    "print(arr[0,1,2])\n",
    "print(arr[1,1,1])\n",
    "print(arr[0,0,1])\n",
    "print(arr[1,0,2])\n",
    "print(arr[1,1,2])\n",
    "print(arr[0:2,0:2,0:2]) #[[[ 1  2][ 4  5]][[ 7  8][10 11]]]\n",
    "print(arr[0:2,0:2,2])\n",
    "print(arr[0:2,1,0:2])\n",
    "print(arr[0:2,1:2,0:2])\n",
    "print(arr[0:2,1,2])\n",
    "print()\n",
    "\n",
    "arr=np.array([[1,2,3,4],[5,6,7,8]])\n",
    "print(arr[1,-1])\n",
    "print(arr[1,0:3])\n",
    "print(arr[0:2,2])\n",
    "print()\n",
    "\n",
    "arr=np.array([1,2,3,4,5])\n",
    "print(arr[1:3])\n",
    "print(arr[1:])\n",
    "print(arr[1:2])\n",
    "print(arr[0:5:2])\n",
    "print(arr[-3:-1])\n",
    "print(arr[::-1])"
   ]
  },
  {
   "cell_type": "code",
   "execution_count": 34,
   "metadata": {},
   "outputs": [
    {
     "name": "stdout",
     "output_type": "stream",
     "text": [
      "1\n",
      "(5,)\n",
      "\n",
      "2\n",
      "(2, 4)\n",
      "\n",
      "3\n",
      "(2, 2, 3)\n"
     ]
    }
   ],
   "source": [
    "import numpy as np\n",
    "arr1=np.array([1,2,3,4,5])\n",
    "arr2=np.array([[1,2,3,4],[5,6,7,8]])\n",
    "arr3=np.array([[[1,2,3],[4,5,6]],[[7,8,9],[10,11,12]]])\n",
    "print(arr1.ndim)\n",
    "print(arr1.shape)\n",
    "print()\n",
    "print(arr2.ndim)\n",
    "print(arr2.shape)\n",
    "print()\n",
    "print(arr3.ndim)\n",
    "print(arr3.shape)"
   ]
  },
  {
   "cell_type": "code",
   "execution_count": 49,
   "metadata": {},
   "outputs": [
    {
     "name": "stdout",
     "output_type": "stream",
     "text": [
      "[[[[[1 2 3 4 5 6]]]]]\n",
      "(1, 1, 1, 1, 6)\n",
      "5\n",
      "\n",
      "[[1 2 3]\n",
      " [4 5 6]]\n",
      "\n",
      "[[1 2]\n",
      " [3 4]\n",
      " [5 6]]\n",
      "\n",
      "[[[1 2 3 4 5 6]]]\n",
      "\n",
      "[[[1 2 3]\n",
      "  [4 5 6]]]\n",
      "\n",
      "[1 2 3 4 5 6]\n",
      "\n",
      "[[1 2 3]\n",
      " [4 5 6]]\n",
      "\n",
      "[[1 2]\n",
      " [3 4]\n",
      " [5 6]]\n"
     ]
    }
   ],
   "source": [
    "import numpy as np\n",
    "arr1=np.array([1,2,3,4,5,6],ndmin=5)\n",
    "print(arr1)\n",
    "print(arr1.shape)\n",
    "print(arr1.ndim)\n",
    "print()\n",
    "\n",
    "arr=arr1.reshape(2,3)\n",
    "print(arr)\n",
    "print()\n",
    "\n",
    "arr=arr1.reshape(3,2)\n",
    "print(arr)\n",
    "print()\n",
    "\n",
    "arr=arr1.reshape(1,1,6)\n",
    "print(arr)\n",
    "print()\n",
    "\n",
    "arr=arr1.reshape(1,2,3)\n",
    "print(arr)\n",
    "print()\n",
    "\n",
    "arr=arr1.reshape(3,2).base\n",
    "print(arr) #original array before reshape\n",
    "print()\n",
    "\n",
    "arr=arr1.reshape(2,-1) #-1=3\n",
    "print(arr)\n",
    "print()\n",
    "\n",
    "arr=arr1.reshape(3,-1) #-1=2\n",
    "print(arr)"
   ]
  },
  {
   "cell_type": "markdown",
   "metadata": {},
   "source": [
    "Iteration\n",
    "="
   ]
  },
  {
   "cell_type": "code",
   "execution_count": 59,
   "metadata": {},
   "outputs": [
    {
     "name": "stdout",
     "output_type": "stream",
     "text": [
      "1 2 3 4 5 \n",
      "1 2 3 4 5 6 7 8 \n",
      "1 2 3 4 5 6 7 8 9 10 11 12 \n",
      "1 3 \n",
      "1 3 5 7 "
     ]
    }
   ],
   "source": [
    "import numpy as np\n",
    "arr=np.array([1,2,3,4,5])\n",
    "for i in arr:\n",
    "    print(i,end=\" \")\n",
    "print()\n",
    "\n",
    "arr=np.array([[1,2,3,4],[5,6,7,8]])\n",
    "for i in arr:\n",
    "    for j in i:\n",
    "        print(j,end=\" \")\n",
    "print()\n",
    "\n",
    "arr=np.array([[[1,2,3],[4,5,6]],[[7,8,9],[10,11,12]]])\n",
    "for x in np.nditer(arr):\n",
    "    print(x,end=\" \")\n",
    "print()\n",
    "\n",
    "arr=np.array([[1,2,3,4],[5,6,7,8]])\n",
    "for x in np.nditer(arr[0:1,::2]):\n",
    "    print(x,end=\" \")\n",
    "print()\n",
    "for x in np.nditer(arr[:,::2]):\n",
    "    print(x,end=\" \")"
   ]
  },
  {
   "cell_type": "markdown",
   "metadata": {},
   "source": [
    "Concatenate\n",
    "="
   ]
  },
  {
   "cell_type": "code",
   "execution_count": 67,
   "metadata": {},
   "outputs": [
    {
     "name": "stdout",
     "output_type": "stream",
     "text": [
      "[1 2 3 4 5 6 7 8 9]\n",
      "[1 2 3 4 5 6 7 8 9]\n"
     ]
    },
    {
     "ename": "AxisError",
     "evalue": "axis 1 is out of bounds for array of dimension 1",
     "output_type": "error",
     "traceback": [
      "\u001b[1;31m---------------------------------------------------------------------------\u001b[0m",
      "\u001b[1;31mAxisError\u001b[0m                                 Traceback (most recent call last)",
      "\u001b[1;32m<ipython-input-67-812f0cde1830>\u001b[0m in \u001b[0;36m<module>\u001b[1;34m\u001b[0m\n\u001b[0;32m      7\u001b[0m \u001b[0marr\u001b[0m\u001b[1;33m=\u001b[0m\u001b[0mnp\u001b[0m\u001b[1;33m.\u001b[0m\u001b[0mconcatenate\u001b[0m\u001b[1;33m(\u001b[0m\u001b[1;33m(\u001b[0m\u001b[0marr1\u001b[0m\u001b[1;33m,\u001b[0m\u001b[0marr2\u001b[0m\u001b[1;33m,\u001b[0m\u001b[0marr3\u001b[0m\u001b[1;33m)\u001b[0m\u001b[1;33m,\u001b[0m\u001b[0maxis\u001b[0m\u001b[1;33m=\u001b[0m\u001b[1;36m0\u001b[0m\u001b[1;33m)\u001b[0m\u001b[1;33m\u001b[0m\u001b[1;33m\u001b[0m\u001b[0m\n\u001b[0;32m      8\u001b[0m \u001b[0mprint\u001b[0m\u001b[1;33m(\u001b[0m\u001b[0marr\u001b[0m\u001b[1;33m)\u001b[0m\u001b[1;33m\u001b[0m\u001b[1;33m\u001b[0m\u001b[0m\n\u001b[1;32m----> 9\u001b[1;33m \u001b[0marr\u001b[0m\u001b[1;33m=\u001b[0m\u001b[0mnp\u001b[0m\u001b[1;33m.\u001b[0m\u001b[0mconcatenate\u001b[0m\u001b[1;33m(\u001b[0m\u001b[1;33m(\u001b[0m\u001b[0marr1\u001b[0m\u001b[1;33m,\u001b[0m\u001b[0marr2\u001b[0m\u001b[1;33m,\u001b[0m\u001b[0marr3\u001b[0m\u001b[1;33m)\u001b[0m\u001b[1;33m,\u001b[0m\u001b[0maxis\u001b[0m\u001b[1;33m=\u001b[0m\u001b[1;36m1\u001b[0m\u001b[1;33m)\u001b[0m\u001b[1;33m\u001b[0m\u001b[1;33m\u001b[0m\u001b[0m\n\u001b[0m\u001b[0;32m     10\u001b[0m \u001b[0mprint\u001b[0m\u001b[1;33m(\u001b[0m\u001b[0marr\u001b[0m\u001b[1;33m)\u001b[0m\u001b[1;33m\u001b[0m\u001b[1;33m\u001b[0m\u001b[0m\n",
      "\u001b[1;32m<__array_function__ internals>\u001b[0m in \u001b[0;36mconcatenate\u001b[1;34m(*args, **kwargs)\u001b[0m\n",
      "\u001b[1;31mAxisError\u001b[0m: axis 1 is out of bounds for array of dimension 1"
     ]
    }
   ],
   "source": [
    "import numpy as np\n",
    "arr1=np.array([1,2,3])\n",
    "arr2=np.array([4,5,6])\n",
    "arr3=np.array([7,8,9])\n",
    "arr=np.concatenate((arr1,arr2,arr3))\n",
    "print(arr)\n",
    "arr=np.concatenate((arr1,arr2,arr3),axis=0)\n",
    "print(arr)\n",
    "arr=np.concatenate((arr1,arr2,arr3),axis=1)\n",
    "print(arr)"
   ]
  },
  {
   "cell_type": "code",
   "execution_count": 77,
   "metadata": {},
   "outputs": [
    {
     "name": "stdout",
     "output_type": "stream",
     "text": [
      "[[1 2 5 6]\n",
      " [3 4 7 8]]\n",
      "(2, 4)\n",
      "\n",
      "[[1 2]\n",
      " [3 4]\n",
      " [5 6]\n",
      " [7 8]]\n",
      "(4, 2)\n"
     ]
    }
   ],
   "source": [
    "import numpy as np\n",
    "arr1=np.array([[1,2],[3,4]])\n",
    "arr2=np.array([[5,6],[7,8]])\n",
    "arr=np.concatenate((arr1,arr2),axis=1)\n",
    "print(arr)\n",
    "print(arr.shape)\n",
    "print()\n",
    "arr=np.concatenate((arr1,arr2),axis=0)\n",
    "print(arr)\n",
    "print(arr.shape)"
   ]
  },
  {
   "cell_type": "markdown",
   "metadata": {},
   "source": [
    "Split\n",
    "="
   ]
  },
  {
   "cell_type": "code",
   "execution_count": 86,
   "metadata": {},
   "outputs": [
    {
     "name": "stdout",
     "output_type": "stream",
     "text": [
      "[array([1]), array([2]), array([3]), array([4])]\n",
      "\n",
      "[array([1, 2]), array([3]), array([4])]\n",
      "\n",
      "[array([1, 2]), array([3, 4])]\n",
      "\n",
      "[array([[1, 2]]), array([[3, 4]]), array([[5, 6]]), array([[7, 8]])]\n",
      "\n",
      "[array([[1, 2]]), array([[3, 4]]), array([[5, 6]]), array([[7, 8]])]\n",
      "\n",
      "[array([[1],\n",
      "       [3],\n",
      "       [5],\n",
      "       [7]]), array([[2],\n",
      "       [4],\n",
      "       [6],\n",
      "       [8]]), array([], shape=(4, 0), dtype=int32), array([], shape=(4, 0), dtype=int32)]\n",
      "\n",
      "[array([[1, 2]]), array([[3, 4]]), array([[5, 6]]), array([[7, 8]]), array([], shape=(0, 2), dtype=int32), array([], shape=(0, 2), dtype=int32)]\n"
     ]
    }
   ],
   "source": [
    "import numpy as np\n",
    "arr1=np.array([1,2,3,4])\n",
    "a=np.array_split(arr1,4)\n",
    "print(a)\n",
    "print()\n",
    "a=np.array_split(arr1,3)\n",
    "print(a)\n",
    "print()\n",
    "a=np.array_split(arr1,2)\n",
    "print(a)\n",
    "print()\n",
    "arr=np.array([[1,2],[3,4],[5,6],[7,8]])\n",
    "a=np.array_split(arr,4)\n",
    "print(a)\n",
    "print()\n",
    "a=np.array_split(arr,4,axis=0)\n",
    "print(a)\n",
    "print()\n",
    "a=np.array_split(arr,4,axis=1)\n",
    "print(a)\n",
    "print()\n",
    "a=np.array_split(arr,6,axis=0)\n",
    "print(a)"
   ]
  },
  {
   "cell_type": "markdown",
   "metadata": {},
   "source": [
    "Where\n",
    "="
   ]
  },
  {
   "cell_type": "code",
   "execution_count": 90,
   "metadata": {},
   "outputs": [
    {
     "name": "stdout",
     "output_type": "stream",
     "text": [
      "(array([3, 6], dtype=int64),)\n",
      "\n",
      "(array([1, 3, 5, 6, 8], dtype=int64),)\n",
      "\n",
      "(array([1, 2], dtype=int64), array([1, 0], dtype=int64))\n"
     ]
    }
   ],
   "source": [
    "import numpy as np\n",
    "arr1=np.array([1,2,3,4,5,6,4,3,2])\n",
    "x=np.where(arr1==4)\n",
    "print(x)\n",
    "print()\n",
    "x=np.where(arr1%2==0)\n",
    "print(x)\n",
    "print()\n",
    "arr1=np.array([[1,2],[3,4],[4,5],[7,8]])\n",
    "x=np.where(arr1==4)\n",
    "print(x)"
   ]
  },
  {
   "cell_type": "markdown",
   "metadata": {},
   "source": [
    "Sort\n",
    "="
   ]
  },
  {
   "cell_type": "code",
   "execution_count": 16,
   "metadata": {},
   "outputs": [
    {
     "name": "stdout",
     "output_type": "stream",
     "text": [
      "[1 2 3 4 4 5 6]\n",
      "\n",
      "[False  True  True]\n",
      "\n",
      "[[2 3 4]\n",
      " [1 3 7]\n",
      " [2 4 5]]\n",
      "\n",
      "[[2 3 4]\n",
      " [1 3 7]\n",
      " [2 4 5]]\n",
      "\n",
      "[[1 2 2]\n",
      " [3 4 3]\n",
      " [4 7 5]]\n",
      "\n",
      "[[[2 3 8]\n",
      "  [3 7 9]]\n",
      "\n",
      " [[2 6 7]\n",
      "  [4 6 9]]]\n",
      "\n",
      "\n",
      "[[[2 3 8]\n",
      "  [3 7 9]]\n",
      "\n",
      " [[2 6 7]\n",
      "  [4 6 9]]]\n",
      "\n",
      "\n",
      "[[[3 2 2]\n",
      "  [7 6 3]]\n",
      "\n",
      " [[6 7 8]\n",
      "  [9 9 4]]]\n",
      "\n",
      "\n",
      "[[[3 2 3]\n",
      "  [7 9 8]]\n",
      "\n",
      " [[6 6 2]\n",
      "  [9 7 4]]]\n",
      "\n",
      "\n"
     ]
    }
   ],
   "source": [
    "import numpy as np\n",
    "arr1=np.array([1,2,3,4,5,6,4])\n",
    "print(np.sort(arr1))\n",
    "print()\n",
    "\n",
    "arr2=np.array([True,False,True])\n",
    "print(np.sort(arr2))\n",
    "print()\n",
    "\n",
    "arr3=np.array([[3,4,2],[1,7,3],[4,2,5]])\n",
    "print(np.sort(arr3))\n",
    "print()\n",
    "print(np.sort(arr3,axis=1))\n",
    "print()\n",
    "print(np.sort(arr3,axis=0))\n",
    "print()\n",
    "\n",
    "arr4=np.array([[[3,2,8],[7,9,3]],[[6,7,2],[9,6,4]]])\n",
    "print(np.sort(arr4))\n",
    "print()\n",
    "print()\n",
    "print(np.sort(arr4,axis=2))\n",
    "print()\n",
    "print()\n",
    "print(np.sort(arr4,axis=0))\n",
    "print()\n",
    "print()\n",
    "print(np.sort(arr4,axis=1))\n",
    "print()\n",
    "print()"
   ]
  },
  {
   "cell_type": "code",
   "execution_count": null,
   "metadata": {},
   "outputs": [],
   "source": []
  }
 ],
 "metadata": {
  "kernelspec": {
   "display_name": "Python 3",
   "language": "python",
   "name": "python3"
  },
  "language_info": {
   "codemirror_mode": {
    "name": "ipython",
    "version": 3
   },
   "file_extension": ".py",
   "mimetype": "text/x-python",
   "name": "python",
   "nbconvert_exporter": "python",
   "pygments_lexer": "ipython3",
   "version": "3.8.5"
  }
 },
 "nbformat": 4,
 "nbformat_minor": 4
}
